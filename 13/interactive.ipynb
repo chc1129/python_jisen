{
 "cells": [
  {
   "cell_type": "markdown",
   "metadata": {},
   "source": [
    "### 作成するアプリケーション"
   ]
  },
  {
   "cell_type": "markdown",
   "metadata": {},
   "source": [
    "### LGTM画像を自動生成するコマンドラインツール"
   ]
  },
  {
   "cell_type": "raw",
   "metadata": {},
   "source": [
    "$ pip3 install git+https://github.com/rhoboro/lgtm#egg=lgtm\n",
    "Collecting lgtm from git+https://github.com/rhoboro/lgtm#egg=lgtm\n",
    "  Cloning https://github.com/rhoboro/lgtm to /tmp/pip-build-ewg6ba85/lgtm\n",
    "Collecting Click~=7.0 (from lgtm)\n",
    "  Downloading https://files.pythonhosted.org/packages/d2/3d/fa76db83bf75c4f8d338c2fd15c8d33fdd7ad23a9b5e57eb6c5de26b430e/click-7.1.2-py2.py3-none-any.whl (82kB)\n",
    "    100% |████████████████████████████████| 92kB 987kB/s\n",
    "Collecting Pillow~=6.2.0 (from lgtm)\n",
    "  Downloading https://files.pythonhosted.org/packages/8a/fd/bbbc569f98f47813c50a116b539d97b3b17a86ac7a309f83b2022d26caf2/Pillow-6.2.2-cp36-cp36m-manylinux1_x86_64.whl (2.1MB)\n",
    "    100% |████████████████████████████████| 2.1MB 465kB/s\n",
    "Collecting requests~=2.22.0 (from lgtm)\n",
    "  Downloading https://files.pythonhosted.org/packages/51/bd/23c926cd341ea6b7dd0b2a00aba99ae0f828be89d72b2190f27c11d4b7fb/requests-2.22.0-py2.py3-none-any.whl (57kB)\n",
    "    100% |████████████████████████████████| 61kB 2.0MB/s\n",
    "Collecting certifi>=2017.4.17 (from requests~=2.22.0->lgtm)\n",
    "  Downloading https://files.pythonhosted.org/packages/5e/c4/6c4fe722df5343c33226f0b4e0bb042e4dc13483228b4718baf286f86d87/certifi-2020.6.20-py2.py3-none-any.whl (156kB)\n",
    "    100% |████████████████████████████████| 163kB 1.6MB/s\n",
    "Collecting idna<2.9,>=2.5 (from requests~=2.22.0->lgtm)\n",
    "  Downloading https://files.pythonhosted.org/packages/14/2c/cd551d81dbe15200be1cf41cd03869a46fe7226e7450af7a6545bfc474c9/idna-2.8-py2.py3-none-any.whl (58kB)\n",
    "    100% |████████████████████████████████| 61kB 1.8MB/s\n",
    "Collecting urllib3!=1.25.0,!=1.25.1,<1.26,>=1.21.1 (from requests~=2.22.0->lgtm)\n",
    "  Downloading https://files.pythonhosted.org/packages/9f/f0/a391d1463ebb1b233795cabfc0ef38d3db4442339de68f847026199e69d7/urllib3-1.25.10-py2.py3-none-any.whl (127kB)\n",
    "    100% |████████████████████████████████| 133kB 2.9MB/s\n",
    "Collecting chardet<3.1.0,>=3.0.2 (from requests~=2.22.0->lgtm)\n",
    "  Downloading https://files.pythonhosted.org/packages/bc/a9/01ffebfb562e4274b6487b4bb1ddec7ca55ec7510b22e4c51f14098443b8/chardet-3.0.4-py2.py3-none-any.whl (133kB)\n",
    "    100% |████████████████████████████████| 143kB 2.0MB/s\n",
    "Installing collected packages: Click, Pillow, certifi, idna, urllib3, chardet, requests, lgtm\n",
    "  Running setup.py install for lgtm ... done\n",
    "Successfully installed Click-7.1.2 Pillow-7.0.0 certifi-2020.6.20 chardet-3.0.4 idna-2.8 lgtm-1.0.0 requests-2.22.0 urllib3-1.25.10"
   ]
  },
  {
   "cell_type": "raw",
   "metadata": {},
   "source": [
    "# ヘルプの表示\n",
    "! lgtm --help\n",
    "Usage: lgtm [OPTIONS] KEYWORD\n",
    "\n",
    "  LGTM画像生成ツール\n",
    "\n",
    "Options:\n",
    "  -m, --message TEXT  画像に乗せる文字列  [default: LGTM]\n",
    "  --help              Show this message and exit."
   ]
  },
  {
   "cell_type": "raw",
   "metadata": {},
   "source": [
    "# 「book」で画像検索を行いoutput.pngを生成\n",
    "# キーワードの代わりに画像パスや画像URLも指定できる\n",
    "$ lgtm book"
   ]
  },
  {
   "cell_type": "markdown",
   "metadata": {},
   "source": [
    "### 利用する主な外部パッケージ"
   ]
  },
  {
   "cell_type": "markdown",
   "metadata": {},
   "source": [
    "### requests　　HTTPクライアントライブラリ"
   ]
  },
  {
   "cell_type": "raw",
   "metadata": {},
   "source": [
    "$ pip3 install requests==2.22.0\n",
    "Collecting requests==2.22.0\n",
    "  Using cached https://files.pythonhosted.org/packages/51/bd/23c926cd341ea6b7dd0b2a00aba99ae0f828be89d72b2190f27c11d4b7fb/requests-2.22.0-py2.py3-none-any.whl\n",
    "Collecting urllib3!=1.25.0,!=1.25.1,<1.26,>=1.21.1 (from requests==2.22.0)\n",
    "  Using cached https://files.pythonhosted.org/packages/9f/f0/a391d1463ebb1b233795cabfc0ef38d3db4442339de68f847026199e69d7/urllib3-1.25.10-py2.py3-none-any.whl\n",
    "Collecting certifi>=2017.4.17 (from requests==2.22.0)\n",
    "  Using cached https://files.pythonhosted.org/packages/5e/c4/6c4fe722df5343c33226f0b4e0bb042e4dc13483228b4718baf286f86d87/certifi-2020.6.20-py2.py3-none-any.whl\n",
    "Collecting chardet<3.1.0,>=3.0.2 (from requests==2.22.0)\n",
    "  Using cached https://files.pythonhosted.org/packages/bc/a9/01ffebfb562e4274b6487b4bb1ddec7ca55ec7510b22e4c51f14098443b8/chardet-3.0.4-py2.py3-none-any.whl\n",
    "Collecting idna<2.9,>=2.5 (from requests==2.22.0)\n",
    "  Using cached https://files.pythonhosted.org/packages/14/2c/cd551d81dbe15200be1cf41cd03869a46fe7226e7450af7a6545bfc474c9/idna-2.8-py2.py3-none-any.whl\n",
    "Installing collected packages: urllib3, certifi, chardet, idna, requests\n",
    "Successfully installed certifi-2020.6.20 chardet-3.0.4 idna-2.8 requests-2.22.0 urllib3-1.25.10"
   ]
  },
  {
   "cell_type": "raw",
   "metadata": {},
   "source": [
    ">>> from urllib import request, parse, error\n",
    ">>> import json\n",
    ">>> query = parse.urlencode({'q': 'python'})\n",
    ">>>\n",
    ">>> url = f'https://httpbin.org/get?{query}'\n",
    ">>> try:\n",
    "...     with request.urlopen(url) as f:\n",
    "...             res = f.read().decode('utf-8')\n",
    "... except error.HTTPError as e:\n",
    "...     print(e)\n",
    "...\n",
    ">>>\n",
    ">>> json.loads(res)\n",
    "{'args': {'q': 'python'}, 'headers': {'Accept-Encoding': 'identity', 'Host': 'httpbin.org', 'User-Agent': 'Python-urllib/3.6', 'X-Amzn-Trace-Id': 'Root=1-5f8aa87c-11a5c69f2437894b0b7959ee'}, 'origin': '219.110.129.112', 'url': 'https://httpbin.org/get?q=python'}\n",
    ">>>"
   ]
  },
  {
   "cell_type": "raw",
   "metadata": {},
   "source": [
    ">>> import requests\n",
    ">>> res = requests.get('https://httpbin.org/get',\n",
    "...                    params={'q': 'python'})\n",
    ">>> res.json()\n",
    "{'args': {'q': 'python'}, 'headers': {'Accept': '*/*', 'Accept-Encoding': 'gzip, deflate', 'Host': 'httpbin.org', 'User-Agent': 'python-requests/2.22.0', 'X-Amzn-Trace-Id': 'Root=1-5f8aaee2-3c92ab814797c0c9424f2c9f'}, 'origin': '219.110.129.112', 'url': 'https://httpbin.org/get?q=python'}"
   ]
  },
  {
   "cell_type": "raw",
   "metadata": {},
   "source": [
    ">>> res = requests.post('https://httpbin.org/post',\n",
    "...                     data={'q': 'python'})\n",
    ">>> res.json()['form']\n",
    "{'q': 'python'}"
   ]
  },
  {
   "cell_type": "markdown",
   "metadata": {},
   "source": [
    "### Click ── コマンドラインツール作成ライブラリ"
   ]
  },
  {
   "cell_type": "raw",
   "metadata": {},
   "source": [
    "$ pip3 install Click==7.0\n",
    "Collecting Click==7.0\n",
    "  Downloading https://files.pythonhosted.org/packages/fa/37/45185cb5abbc30d7257104c434fe0b07e5a195a6847506c074527aa599ec/Click-7.0-py2.py3-none-any.whl (81kB)\n",
    "    100% |████████████████████████████████| 81kB 1.6MB/s\n",
    "Installing collected packages: Click\n",
    "Successfully installed Click-7.1.2"
   ]
  },
  {
   "cell_type": "raw",
   "metadata": {},
   "source": [
    "greet.py\n",
    "\n",
    "import click\n",
    "\n",
    "@click.command()\n",
    "@click.option('--words', default='Hello')\n",
    "@click.argument('name')\n",
    "def greet(name, words):\n",
    "    click.echo(f'{words}, {name}!')\n",
    "\n",
    "if __name__ == '__main__':\n",
    "    greet()"
   ]
  },
  {
   "cell_type": "raw",
   "metadata": {},
   "source": [
    "$ python3 greet.py rhoboro\n",
    "Hello, rhoboro!"
   ]
  },
  {
   "cell_type": "raw",
   "metadata": {},
   "source": [
    "$ python3 greet.py rhoboro --words Hi\n",
    "Hi, rhoboro!"
   ]
  },
  {
   "cell_type": "markdown",
   "metadata": {},
   "source": [
    "### Pillow ── 画像処理ライブラリ"
   ]
  },
  {
   "cell_type": "raw",
   "metadata": {},
   "source": [
    "$ pip3 install Pillow==6.2.1\n",
    "Collecting Pillow==6.2.1\n",
    "  Downloading https://files.pythonhosted.org/packages/10/5c/0e94e689de2476c4c5e644a3bd223a1c1b9e2bdb7c510191750be74fa786/Pillow-6.2.1-cp36-cp36m-manylinux1_x86_64.whl (2.1MB)\n",
    "    100% |████████████████████████████████| 2.1MB 579kB/s\n",
    "Installing collected packages: Pillow\n",
    "Successfully installed Pillow-7.0.0"
   ]
  },
  {
   "cell_type": "raw",
   "metadata": {},
   "source": [
    "import os\n",
    "from PIL import Image\n",
    "def thumbnail(infile, size=(128, 128)):\n",
    "    outfile = os.path.splitext(\n",
    "        infile)[0] + \".thumbnail\"\n",
    "    try:\n",
    "        im = Image.open(infile)\n",
    "        im.thumbnail(size)\n",
    "        im.save(outfile, \"JPEG\")\n",
    "    except IOError:\n",
    "        print(\"cannot create thumbnail for\", infile)"
   ]
  },
  {
   "cell_type": "raw",
   "metadata": {},
   "source": [
    "# 任意のJPEGファイルを指定する\n",
    "thumbnail('dog.jpg')"
   ]
  },
  {
   "cell_type": "markdown",
   "metadata": {},
   "source": [
    "### プロジェクトの作成"
   ]
  },
  {
   "cell_type": "markdown",
   "metadata": {},
   "source": [
    "### Gitの利用"
   ]
  },
  {
   "cell_type": "raw",
   "metadata": {},
   "source": [
    "$ mkdir workspace\n",
    "$ cd workspace/\n",
    "$ git init\n",
    "Initialized empty Git repository in /mnt/d/ubuntu_home/chc/work/prg/python/python_jisen/13/workspace/.git/"
   ]
  },
  {
   "cell_type": "markdown",
   "metadata": {},
   "source": [
    "### .gitignoreファイルの作成"
   ]
  },
  {
   "cell_type": "raw",
   "metadata": {},
   "source": [
    "# 下記URLの内容を.gitignoreという名前でファイルに保存\n",
    "# 環境に応じてキーワードを変えたり内容を編集する\n",
    "# https://www.gitignore.io/api/macos,python\n",
    "$git add ."
   ]
  },
  {
   "cell_type": "raw",
   "metadata": {},
   "source": [
    "# gitインストール直後の場合は下記を実行してください\n",
    "$git config --global user.email \"you@example.com\"\n",
    "$git config --global user.name \"Your Name\""
   ]
  },
  {
   "cell_type": "raw",
   "metadata": {},
   "source": [
    "$git commit -m '.gitignoreを追加'"
   ]
  },
  {
   "cell_type": "markdown",
   "metadata": {},
   "source": [
    "### GitHubでのソースコード管理"
   ]
  },
  {
   "cell_type": "raw",
   "metadata": {},
   "source": [
    "$ git remote add origin \\\n",
    "  git@github.com:<YOUR_ACCOUNT>/lgtm.git\n",
    "$ git push -u origin master"
   ]
  },
  {
   "cell_type": "markdown",
   "metadata": {},
   "source": [
    "### パッケージの雛型作成"
   ]
  },
  {
   "cell_type": "raw",
   "metadata": {},
   "source": [
    "$ cat requirements.txt\n",
    "Click==7.0\n",
    "Pillow==6.2.1\n",
    "requests==2.22.0"
   ]
  },
  {
   "cell_type": "raw",
   "metadata": {},
   "source": [
    "Notebook環境はすでにPython環境内であるため仮想環境の有効化はできません。"
   ]
  },
  {
   "cell_type": "raw",
   "metadata": {},
   "source": [
    "$ python3 -m venv venv\n",
    "$ . venv/bin/activate"
   ]
  },
  {
   "cell_type": "raw",
   "metadata": {},
   "source": [
    "$ pip3 install -r requirements.txt\n",
    "Collecting Click==7.0 (from -r requirements.txt (line 1))\n",
    "  Using cached https://files.pythonhosted.org/packages/fa/37/45185cb5abbc30d7257104c434fe0b07e5a195a6847506c074527aa599ec/Click-7.0-py2.py3-none-any.whl\n",
    "Collecting Pillow==6.2.1 (from -r requirements.txt (line 2))\n",
    "  Using cached https://files.pythonhosted.org/packages/10/5c/0e94e689de2476c4c5e644a3bd223a1c1b9e2bdb7c510191750be74fa786/Pillow-6.2.1-cp36-cp36m-manylinux1_x86_64.whl\n",
    "Collecting requests==2.22.0 (from -r requirements.txt (line 3))\n",
    "  Using cached https://files.pythonhosted.org/packages/51/bd/23c926cd341ea6b7dd0b2a00aba99ae0f828be89d72b2190f27c11d4b7fb/requests-2.22.0-py2.py3-none-any.whl\n",
    "Collecting certifi>=2017.4.17 (from requests==2.22.0->-r requirements.txt (line 3))\n",
    "  Using cached https://files.pythonhosted.org/packages/5e/c4/6c4fe722df5343c33226f0b4e0bb042e4dc13483228b4718baf286f86d87/certifi-2020.6.20-py2.py3-none-any.whl\n",
    "Collecting urllib3!=1.25.0,!=1.25.1,<1.26,>=1.21.1 (from requests==2.22.0->-r requirements.txt (line 3))\n",
    "  Using cached https://files.pythonhosted.org/packages/9f/f0/a391d1463ebb1b233795cabfc0ef38d3db4442339de68f847026199e69d7/urllib3-1.25.10-py2.py3-none-any.whl\n",
    "Collecting idna<2.9,>=2.5 (from requests==2.22.0->-r requirements.txt (line 3))\n",
    "  Using cached https://files.pythonhosted.org/packages/14/2c/cd551d81dbe15200be1cf41cd03869a46fe7226e7450af7a6545bfc474c9/idna-2.8-py2.py3-none-any.whl\n",
    "Collecting chardet<3.1.0,>=3.0.2 (from requests==2.22.0->-r requirements.txt (line 3))\n",
    "  Using cached https://files.pythonhosted.org/packages/bc/a9/01ffebfb562e4274b6487b4bb1ddec7ca55ec7510b22e4c51f14098443b8/chardet-3.0.4-py2.py3-none-any.whl\n",
    "Installing collected packages: Click, Pillow, certifi, urllib3, idna, chardet, requests\n",
    "Successfully installed Click-7.1.2 Pillow-7.0.0 certifi-2020.6.20 chardet-3.0.4 idna-2.8 requests-2.22.0 urllib3-1.25.10"
   ]
  },
  {
   "cell_type": "raw",
   "metadata": {},
   "source": [
    "$pip3 freeze > requirements.lock"
   ]
  },
  {
   "cell_type": "markdown",
   "metadata": {},
   "source": [
    "### lgtmパッケージの作成"
   ]
  },
  {
   "cell_type": "raw",
   "metadata": {},
   "source": [
    "$mkdir lgtm"
   ]
  },
  {
   "cell_type": "raw",
   "metadata": {},
   "source": [
    "# 空の__init__.pyを作成\n",
    "# Windowsの場合は type nul > lgtm/__init__.py\n",
    "$touch lgtm/__init__.py"
   ]
  },
  {
   "cell_type": "raw",
   "metadata": {},
   "source": [
    "lgtm/core.py\n",
    "\n",
    "import click\n",
    "\n",
    "@click.command()\n",
    "def cli():\n",
    "    \"\"\"LGTM画像生成ツール\"\"\"\n",
    "    lgtm()\n",
    "    click.echo('lgtm')  # 動作確認用\n",
    "\n",
    "\n",
    "def lgtm():\n",
    "    # ここにロジックを追加していく\n",
    "    pass"
   ]
  },
  {
   "cell_type": "raw",
   "metadata": {},
   "source": [
    "main.py\n",
    "\n",
    "from lgtm import core\n",
    "\n",
    "if __name__ == '__main__':\n",
    "    core.cli()"
   ]
  },
  {
   "cell_type": "raw",
   "metadata": {},
   "source": [
    "$ python3 main.py\n",
    "lgtm"
   ]
  },
  {
   "cell_type": "raw",
   "metadata": {},
   "source": [
    "$ git add ."
   ]
  },
  {
   "cell_type": "raw",
   "metadata": {},
   "source": [
    "$ git commit -m 'プロジェクトのひな型を作成'"
   ]
  },
  {
   "cell_type": "raw",
   "metadata": {},
   "source": [
    "$git push"
   ]
  },
  {
   "cell_type": "markdown",
   "metadata": {},
   "source": [
    "### 継続的インテグレーションの導入"
   ]
  },
  {
   "cell_type": "markdown",
   "metadata": {},
   "source": [
    "## CircleCIでテスト自動化"
   ]
  },
  {
   "cell_type": "markdown",
   "metadata": {},
   "source": [
    "### プロジェクトの追加"
   ]
  },
  {
   "cell_type": "markdown",
   "metadata": {},
   "source": [
    "### config.ymlの追加"
   ]
  },
  {
   "cell_type": "raw",
   "metadata": {},
   "source": [
    ".circleci/config.yml\n",
    "\n",
    "\n",
    "version: 2\n",
    "jobs:\n",
    " setup_dependencies:\n",
    "   docker:\n",
    "     - image: circleci/python:3.8.1\n",
    "   steps:\n",
    "     - checkout\n",
    "     - restore_cache:\n",
    "         key: deps-{{ checksum \"requirements.lock\" }}\n",
    "     - run:\n",
    "         command: |\n",
    "           pip3 install --user -r requirements.lock\n",
    "     - save_cache:\n",
    "         key: deps-{{ checksum \"requirements.lock\" }}\n",
    "         paths:\n",
    "           - \"~/.local\"\n",
    " test:\n",
    "   docker:\n",
    "     - image: circleci/python:3.8.1\n",
    "   steps:\n",
    "     - checkout\n",
    "     - restore_cache:\n",
    "         key: deps-{{ checksum \"requirements.lock\" }}\n",
    "     - run:\n",
    "         command: |\n",
    "           python3 -m unittest -v\n",
    "workflows:\n",
    "  version: 2\n",
    "  all:\n",
    "    jobs:\n",
    "      - setup_dependencies\n",
    "      - test:\n",
    "          requires:\n",
    "            - setup_dependencies\n"
   ]
  },
  {
   "cell_type": "code",
   "execution_count": 15,
   "metadata": {},
   "outputs": [],
   "source": [
    "### テストの実行と結果の確認"
   ]
  },
  {
   "cell_type": "raw",
   "metadata": {},
   "source": [
    "$git add ."
   ]
  },
  {
   "cell_type": "raw",
   "metadata": {},
   "source": [
    "$git commit -m 'CircleCIの設定ファイルを追加'"
   ]
  },
  {
   "cell_type": "raw",
   "metadata": {},
   "source": [
    "$ git push"
   ]
  },
  {
   "cell_type": "markdown",
   "metadata": {},
   "source": [
    "### アプリケーションの開発"
   ]
  },
  {
   "cell_type": "markdown",
   "metadata": {},
   "source": [
    "### コマンドライン引数の取得"
   ]
  },
  {
   "cell_type": "markdown",
   "metadata": {},
   "source": [
    "### 画像ファイルのソース情報とメッセージを受け取る"
   ]
  },
  {
   "cell_type": "raw",
   "metadata": {},
   "source": [
    "lgtm/core.py\n",
    "\n",
    "import click\n",
    "\n",
    "from lgtm.drawer import save_with_message\n",
    "from lgtm.image_source import get_image\n",
    "\n",
    "@click.command()\n",
    "@click.option('--message', '-m', default='LGTM',\n",
    "              show_default=True, help='画像に乗せる文字列')\n",
    "@click.argument('keyword')\n",
    "def cli(keyword, message):\n",
    "    \"\"\"LGTM画像生成ツール\"\"\"\n",
    "    lgtm(keyword, message)\n",
    "\n",
    "\n",
    "def lgtm(keyword, message):\n",
    "    with get_image(keyword) as fp:\n",
    "        save_with_message(fp, message)"
   ]
  },
  {
   "cell_type": "raw",
   "metadata": {},
   "source": [
    "$ python3 main.py --help\n",
    "Usage: main.py [OPTIONS] KEYWORD\n",
    "\n",
    "  LGTM画像生成ツール\n",
    "\n",
    "Options:\n",
    "  -m, --message TEXT  画像に乗せる文字列  [default: LGTM]\n",
    "  --help              Show this message and exit."
   ]
  },
  {
   "cell_type": "raw",
   "metadata": {},
   "source": [
    "$git add ."
   ]
  },
  {
   "cell_type": "raw",
   "metadata": {},
   "source": [
    "$git commit -m 'コマンドライン引数を受け取る'"
   ]
  },
  {
   "cell_type": "raw",
   "metadata": {},
   "source": [
    "$git push"
   ]
  },
  {
   "cell_type": "markdown",
   "metadata": {},
   "source": [
    "### テストコードの修正"
   ]
  },
  {
   "cell_type": "raw",
   "metadata": {},
   "source": [
    "tests/test_core.py\n",
    "\n",
    "import unittest\n",
    "\n",
    "class LgtmTest(unittest.TestCase):\n",
    "    def test_lgtm(self):\n",
    "        from lgtm.core import lgtm\n",
    "        self.assertIsNone(lgtm('./python.jpeg', 'LGTM'))"
   ]
  },
  {
   "cell_type": "raw",
   "metadata": {},
   "source": [
    "$ python3 -m unittest -v\n",
    "test_lgtm (tests.test_core.LgtmTest) ... ok\n",
    "\n",
    "----------------------------------------------------------------------\n",
    "Ran 1 test in 0.028s\n",
    "\n",
    "OK"
   ]
  },
  {
   "cell_type": "raw",
   "metadata": {},
   "source": [
    "$git add ."
   ]
  },
  {
   "cell_type": "raw",
   "metadata": {},
   "source": [
    "$git commit -m 'lgtm/core.pyの変更に伴うテストの修正'"
   ]
  },
  {
   "cell_type": "raw",
   "metadata": {},
   "source": [
    "$git push"
   ]
  },
  {
   "cell_type": "markdown",
   "metadata": {},
   "source": [
    "### 画像の取得"
   ]
  },
  {
   "cell_type": "markdown",
   "metadata": {},
   "source": [
    "### ファイルパスから画像を取得するクラスの実装"
   ]
  },
  {
   "cell_type": "raw",
   "metadata": {},
   "source": [
    "lgtm/image_source.py\n",
    "\n",
    "from io import BytesIO\n",
    "import requests\n",
    "\n",
    "class LocalImage:\n",
    "    \"\"\"ファイルから画像を取得する\"\"\"\n",
    "\n",
    "    def __init__(self, path):\n",
    "        self._path = path\n",
    "\n",
    "    def get_image(self):\n",
    "        return open(self._path, 'rb')\n",
    "\n",
    "\n",
    "class RemoteImage:\n",
    "    \"\"\"URLから画像を取得する\"\"\"\n",
    "\n",
    "    def __init__(self, path):\n",
    "        self._path = path\n",
    "\n",
    "    def get_image(self):\n",
    "        data = requests.get(self._path)\n",
    "        # バイトデータをファイルオブジェクトに変換\n",
    "        return BytesIO(data.content)"
   ]
  },
  {
   "cell_type": "markdown",
   "metadata": {},
   "source": [
    "### URLから画像を取得するクラスの実装"
   ]
  },
  {
   "cell_type": "raw",
   "metadata": {},
   "source": [
    "lgtm/image_source.py\n",
    "\n",
    "\n",
    "（省略）\n",
    "class RemoteImage:\n",
    "    \"\"\"URLから画像を取得する\"\"\"\n",
    "\n",
    "    def __init__(self, path):\n",
    "        self._url = path\n",
    "\n",
    "    def get_image(self):\n",
    "        data = requests.get(self._url)\n",
    "        # バイトデータをファイルオブジェクトに変換\n",
    "        return BytesIO(data.content)"
   ]
  },
  {
   "cell_type": "markdown",
   "metadata": {},
   "source": [
    "### 検索キーワードから画像を取得するクラスの実装"
   ]
  },
  {
   "cell_type": "raw",
   "metadata": {},
   "source": [
    "lgtm/image_source.py\n",
    " \n",
    "（省略）\n",
    "class _LoremFlickr(RemoteImage):\n",
    "    \"\"\"キーワード検索で画像を取得する\"\"\"\n",
    "    LOREM_FLICKR_URL = 'https://loremflickr.com'\n",
    "    WIDTH = 800\n",
    "    HEIGHT = 600\n",
    "\n",
    "    def __init__(self, keyword):\n",
    "        super().__init__(self._build_url(keyword))\n",
    "\n",
    "    def _build_url(self, keyword):\n",
    "        return (f'{self.LOREM_FLICKR_URL}/'\n",
    "                f'{self.WIDTH}/{self.HEIGHT}/{keyword}')\n",
    "\n",
    "\n",
    "KeywordImage = _LoremFlickr"
   ]
  },
  {
   "cell_type": "markdown",
   "metadata": {},
   "source": [
    "### 画像を取得するクラスの利用"
   ]
  },
  {
   "cell_type": "raw",
   "metadata": {},
   "source": [
    "lgtm/image_source.py\n",
    "\n",
    "from io import BytesIO\n",
    "import requests\n",
    "from pathlib import Path\n",
    "\n",
    "class LocalImage:\n",
    "    \"\"\"ファイルから画像を取得する\"\"\"\n",
    "\n",
    "    def __init__(self, path):\n",
    "        self._path = path\n",
    "\n",
    "    def get_image(self):\n",
    "        return open(self._path, 'rb')\n",
    "\n",
    "\n",
    "class RemoteImage:\n",
    "    \"\"\"URLから画像を取得する\"\"\"\n",
    "\n",
    "    def __init__(self, path):\n",
    "        self._path = path\n",
    "\n",
    "    def get_image(self):\n",
    "        data = requests.get(self._path)\n",
    "        # バイトデータをファイルオブジェクトに変換\n",
    "        return BytesIO(data.content)\n",
    "\n",
    "class RemoteImage:\n",
    "    \"\"\"URLから画像を取得する\"\"\"\n",
    "\n",
    "    def __init__(self, path):\n",
    "        self._url = path\n",
    "\n",
    "    def get_image(self):\n",
    "        data = requests.get(self._url)\n",
    "        # バイトデータをファイルオブジェクトに変換\n",
    "        return BytesIO(data.content)\n",
    "\n",
    "class _LoremFlickr(RemoteImage):\n",
    "    \"\"\"キーワード検索で画像を取得する\"\"\"\n",
    "    LOREM_FLICKR_URL = 'https://loremflickr.com'\n",
    "    WIDTH = 800\n",
    "    HEIGHT = 600\n",
    "\n",
    "    def __init__(self, keyword):\n",
    "        super().__init__(self._build_url(keyword))\n",
    "\n",
    "    def _build_url(self, keyword):\n",
    "        return (f'{self.LOREM_FLICKR_URL}/'\n",
    "                f'{self.WIDTH}/{self.HEIGHT}/{keyword}')\n",
    "\n",
    "\n",
    "KeywordImage = _LoremFlickr\n",
    "\n",
    "# 関数だがコンストラクタとして利用する\n",
    "def ImageSource(keyword):\n",
    "    \"\"\"最適なイメージソースクラスを返す\"\"\"\n",
    "    if keyword.startswith(('http://', 'https://')):\n",
    "        return RemoteImage(keyword)\n",
    "    elif Path(keyword).exists():\n",
    "        return LocalImage(keyword)\n",
    "    else:\n",
    "        return KeywordImage(keyword)\n",
    "\n",
    "\n",
    "def get_image(keyword):\n",
    "    \"\"\"画像のファイルオブジェクトを返す\"\"\"\n",
    "    return ImageSource(keyword).get_image()\n"
   ]
  },
  {
   "cell_type": "markdown",
   "metadata": {},
   "source": [
    "### 画像処理"
   ]
  },
  {
   "cell_type": "markdown",
   "metadata": {},
   "source": [
    "### 文字列を画像上に描画する最小限の実装例"
   ]
  },
  {
   "cell_type": "raw",
   "metadata": {},
   "source": [
    "from importlib import reload\n",
    "reload(Image)\n",
    "reload(ImageDraw)\n",
    "from PIL import Image, ImageDraw\n",
    "# ローカル環境にある任意の画像パスを指定\n",
    "file_path = '../dog.jpg'\n",
    "\n",
    "# ここではファイルパスの文字列を渡しているが\n",
    "# ファイルオブジェクトを渡してもよい\n",
    "image = Image.open(file_path)\n",
    "\n",
    "draw = ImageDraw.Draw(image)\n",
    "\n",
    "# 左上に\"LGTM\"を描画\n",
    "draw.text((0, 0), 'LGTM')\n",
    "\n",
    "image.save('output.png', 'PNG')"
   ]
  },
  {
   "cell_type": "markdown",
   "metadata": {},
   "source": [
    "### 文字列を中央に最適なサイズで描画"
   ]
  },
  {
   "cell_type": "raw",
   "metadata": {},
   "source": [
    "lgtm/drawer.py\n",
    "\n",
    "from PIL import Image, ImageDraw, ImageFont\n",
    "\n",
    "# 画像全体に対するメッセージ描画可能エリアの比率\n",
    "MAX_RATIO = 0.8\n",
    "\n",
    "# フォント関連の定数\n",
    "FONT_MAX_SIZE = 256\n",
    "FONT_MIN_SIZE = 24\n",
    "\n",
    "# WindowsやLinuxではパスが異なる\n",
    "FONT_NAME = '/Library/Fonts/Arial Bold.ttf'\n",
    "FONT_COLOR_WHITE = (255, 255, 255, 0)\n",
    "\n",
    "# アウトプット関連の定数\n",
    "OUTPUT_NAME = 'output.png'\n",
    "OUTPUT_FORMAT = 'PNG'\n",
    "\n",
    "\n",
    "def save_with_message(fp, message):\n",
    "    image = Image.open(fp)\n",
    "    draw = ImageDraw.Draw(image)\n",
    "    # メッセージを描画できる領域のサイズ\n",
    "    # タプルの要素ごとに計算する\n",
    "    image_width, image_height = image.size\n",
    "    message_area_width = image_width * MAX_RATIO\n",
    "    message_area_height = image_height * MAX_RATIO\n",
    "\n",
    "    # フォントサイズを決める\n",
    "    for font_size in range(FONT_MAX_SIZE, FONT_MIN_SIZE,\n",
    "                           -1):\n",
    "        font = ImageFont.truetype(FONT_NAME, font_size)\n",
    "        # 描画に必要なサイズ\n",
    "        text_width, text_height = draw.textsize(\n",
    "            message, font=font)\n",
    "        w = message_area_width - text_width\n",
    "        h = message_area_height - text_height\n",
    "\n",
    "        # 幅、高さともに領域内におさまる値を採用\n",
    "        if w > 0 and h > 0:\n",
    "            position = ((image_width - text_width) / 2,\n",
    "                        (image_height - text_height) / 2)\n",
    "            # メッセージの描画\n",
    "            draw.text(position, message,\n",
    "                      fill=FONT_COLOR_WHITE, font=font)\n",
    "            break\n",
    "\n",
    "    # 画像の保存\n",
    "    image.save(OUTPUT_NAME, OUTPUT_FORMAT)"
   ]
  },
  {
   "cell_type": "markdown",
   "metadata": {},
   "source": [
    "### 各処理の呼び出し"
   ]
  },
  {
   "cell_type": "raw",
   "metadata": {},
   "source": [
    "lgtm/core.py\n",
    "\n",
    "\n",
    "import click\n",
    "\n",
    "from lgtm.drawer import save_with_message\n",
    "from lgtm.image_source import get_image\n",
    "\n",
    "@click.command()\n",
    "@click.option('--message', '-m', default='LGTM',\n",
    "              show_default=True, help='画像に乗せる文字列')\n",
    "@click.argument('keyword')\n",
    "def cli(keyword, message):\n",
    "    \"\"\"LGTM画像生成ツール\"\"\"\n",
    "    lgtm(keyword, message)\n",
    "\n",
    "\n",
    "def lgtm(keyword, message):\n",
    "    with get_image(keyword) as fp:\n",
    "        save_with_message(fp, message)"
   ]
  },
  {
   "cell_type": "raw",
   "metadata": {},
   "source": [
    "# 結果の画像は取得できた画像により異なる\n",
    "$ python3 main.py book"
   ]
  },
  {
   "cell_type": "markdown",
   "metadata": {},
   "source": [
    "### コマンドとして実行する"
   ]
  },
  {
   "cell_type": "markdown",
   "metadata": {},
   "source": [
    "### setup.pyの作成"
   ]
  },
  {
   "cell_type": "raw",
   "metadata": {},
   "source": [
    "setup.py\n",
    "\n",
    "\n",
    "from setuptools import find_packages, setup\n",
    "\n",
    "setup(\n",
    "    name='lgtm',\n",
    "    version='1.0.0',\n",
    "    packages=find_packages(exclude=('tests',)),\n",
    "    install_requires=[\n",
    "        'Click',\n",
    "        'Pillow',\n",
    "        'requests',\n",
    "    ],\n",
    "    entry_points={\n",
    "        'console_scripts': [\n",
    "            'lgtm=lgtm.core:cli'\n",
    "        ]\n",
    "    }\n",
    ")"
   ]
  },
  {
   "cell_type": "markdown",
   "metadata": {},
   "source": [
    "### entry\\_points ── スクリプトインタフェースの登録を行う引数"
   ]
  },
  {
   "cell_type": "markdown",
   "metadata": {},
   "source": [
    "### 動かしてみよう"
   ]
  },
  {
   "cell_type": "raw",
   "metadata": {},
   "source": [
    "$ pip3 install -e .\n",
    "Obtaining file:///mnt/d/ubuntu_home/chc/work/prg/python/workspace/lgtm\n",
    "Collecting Click (from lgtm==1.0.0)\n",
    "  Using cached https://files.pythonhosted.org/packages/d2/3d/fa76db83bf75c4f8d338c2fd15c8d33fdd7ad23a9b5e57eb6c5de26b430e/click-7.1.2-py2.py3-none-any.whl\n",
    "Collecting Pillow (from lgtm==1.0.0)\n",
    "  Downloading https://files.pythonhosted.org/packages/a6/9c/829c74f7f7f129616dfb6f75afd72529f895d29db71c7aeb46b02fcfb26d/Pillow-8.0.0-cp36-cp36m-manylinux1_x86_64.whl (2.2MB)\n",
    "    100% |████████████████████████████████| 2.2MB 473kB/s\n",
    "Collecting requests (from lgtm==1.0.0)\n",
    "  Downloading https://files.pythonhosted.org/packages/45/1e/0c169c6a5381e241ba7404532c16a21d86ab872c9bed8bdcd4c423954103/requests-2.24.0-py2.py3-none-any.whl (61kB)\n",
    "    100% |████████████████████████████████| 71kB 2.2MB/s\n",
    "Collecting certifi>=2017.4.17 (from requests->lgtm==1.0.0)\n",
    "  Using cached https://files.pythonhosted.org/packages/5e/c4/6c4fe722df5343c33226f0b4e0bb042e4dc13483228b4718baf286f86d87/certifi-2020.6.20-py2.py3-none-any.whl\n",
    "Collecting chardet<4,>=3.0.2 (from requests->lgtm==1.0.0)\n",
    "  Using cached https://files.pythonhosted.org/packages/bc/a9/01ffebfb562e4274b6487b4bb1ddec7ca55ec7510b22e4c51f14098443b8/chardet-3.0.4-py2.py3-none-any.whl\n",
    "Collecting urllib3!=1.25.0,!=1.25.1,<1.26,>=1.21.1 (from requests->lgtm==1.0.0)\n",
    "  Using cached https://files.pythonhosted.org/packages/9f/f0/a391d1463ebb1b233795cabfc0ef38d3db4442339de68f847026199e69d7/urllib3-1.25.10-py2.py3-none-any.whl\n",
    "Collecting idna<3,>=2.5 (from requests->lgtm==1.0.0)\n",
    "  Downloading https://files.pythonhosted.org/packages/a2/38/928ddce2273eaa564f6f50de919327bf3a00f091b5baba8dfa9460f3a8a8/idna-2.10-py2.py3-none-any.whl (58kB)\n",
    "    100% |████████████████████████████████| 61kB 2.1MB/s\n",
    "Installing collected packages: Click, Pillow, certifi, chardet, urllib3, idna, requests, lgtm\n",
    "  Found existing installation: lgtm 1.0.0\n",
    "    Uninstalling lgtm-1.0.0:\n",
    "      Successfully uninstalled lgtm-1.0.0\n",
    "  Running setup.py develop for lgtm\n",
    "Successfully installed Click-7.1.2 Pillow-8.0.0 certifi-2020.6.20 chardet-3.0.4 idna-2.10 lgtm requests-2.24.0 urllib3-1.25.10"
   ]
  },
  {
   "cell_type": "raw",
   "metadata": {},
   "source": [
    "# コマンドが登録された\n",
    "\n",
    "$ lgtm\n",
    "Usage: lgtm [OPTIONS] KEYWORD\n",
    "Try 'lgtm --help' for help.\n",
    "\n",
    "Error: Missing argument 'KEYWORD'."
   ]
  },
  {
   "cell_type": "raw",
   "metadata": {},
   "source": [
    "$ lgtm book"
   ]
  },
  {
   "cell_type": "markdown",
   "metadata": {},
   "source": [
    "### 本章のまとめ"
   ]
  },
  {
   "cell_type": "raw",
   "metadata": {},
   "source": [
    "本章では、Ptyhonを使って実践的なアプリケーションの開発を行いました。\n",
    "開発したアプリケーション自体は小さなものですが、本章には外部パッケージ、バージョン管理システム、継続的インテグレーションなどの実際の開発現場で欠かせないエッセンスが詰まっています。また、コマンドライングールの開発は、実用的でありながらも小さく始められるため、学習目的にも最適です。\n",
    "本書のこれまでの内容を参考に、いろんなツールをPythonで作成してください。そうするうちに、自然とPython自体が手に馴染むツールの1つになっていくでしょう。"
   ]
  }
 ],
 "metadata": {
  "kernelspec": {
   "display_name": "Python 3",
   "language": "python",
   "name": "python3"
  },
  "language_info": {
   "codemirror_mode": {
    "name": "ipython",
    "version": 3
   },
   "file_extension": ".py",
   "mimetype": "text/x-python",
   "name": "python",
   "nbconvert_exporter": "python",
   "pygments_lexer": "ipython3",
   "version": "3.7.6"
  }
 },
 "nbformat": 4,
 "nbformat_minor": 4
}
